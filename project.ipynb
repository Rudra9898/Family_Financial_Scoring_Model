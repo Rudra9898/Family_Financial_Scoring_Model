{
 "cells": [
  {
   "cell_type": "code",
   "execution_count": 1,
   "id": "b98297eb",
   "metadata": {},
   "outputs": [],
   "source": [
    "import warnings\n",
    "warnings.filterwarnings('ignore')"
   ]
  },
  {
   "cell_type": "code",
   "execution_count": 2,
   "id": "b0944f91",
   "metadata": {},
   "outputs": [],
   "source": [
    "import pandas as pd\n",
    "import numpy as np\n",
    "import matplotlib.pyplot as plt\n",
    "import seaborn as sns\n",
    "%matplotlib inline"
   ]
  },
  {
   "cell_type": "code",
   "execution_count": 3,
   "id": "46eb1f7f",
   "metadata": {},
   "outputs": [],
   "source": [
    "df=pd.read_excel('family_financial_and_transactions_data.xlsx')"
   ]
  },
  {
   "cell_type": "code",
   "execution_count": 4,
   "id": "4d2f4539",
   "metadata": {},
   "outputs": [
    {
     "data": {
      "text/html": [
       "<div>\n",
       "<style scoped>\n",
       "    .dataframe tbody tr th:only-of-type {\n",
       "        vertical-align: middle;\n",
       "    }\n",
       "\n",
       "    .dataframe tbody tr th {\n",
       "        vertical-align: top;\n",
       "    }\n",
       "\n",
       "    .dataframe thead th {\n",
       "        text-align: right;\n",
       "    }\n",
       "</style>\n",
       "<table border=\"1\" class=\"dataframe\">\n",
       "  <thead>\n",
       "    <tr style=\"text-align: right;\">\n",
       "      <th></th>\n",
       "      <th>Family ID</th>\n",
       "      <th>Member ID</th>\n",
       "      <th>Transaction Date</th>\n",
       "      <th>Category</th>\n",
       "      <th>Amount</th>\n",
       "      <th>Income</th>\n",
       "      <th>Savings</th>\n",
       "      <th>Monthly Expenses</th>\n",
       "      <th>Loan Payments</th>\n",
       "      <th>Credit Card Spending</th>\n",
       "      <th>Dependents</th>\n",
       "      <th>Financial Goals Met (%)</th>\n",
       "    </tr>\n",
       "  </thead>\n",
       "  <tbody>\n",
       "    <tr>\n",
       "      <th>0</th>\n",
       "      <td>FAM001</td>\n",
       "      <td>FAM001_Member1</td>\n",
       "      <td>2024-10-07</td>\n",
       "      <td>Travel</td>\n",
       "      <td>409.12</td>\n",
       "      <td>113810</td>\n",
       "      <td>20234</td>\n",
       "      <td>5781</td>\n",
       "      <td>2422</td>\n",
       "      <td>2959</td>\n",
       "      <td>2</td>\n",
       "      <td>68</td>\n",
       "    </tr>\n",
       "    <tr>\n",
       "      <th>1</th>\n",
       "      <td>FAM001</td>\n",
       "      <td>FAM001_Member1</td>\n",
       "      <td>2024-10-16</td>\n",
       "      <td>Travel</td>\n",
       "      <td>270.91</td>\n",
       "      <td>113810</td>\n",
       "      <td>20234</td>\n",
       "      <td>5781</td>\n",
       "      <td>2422</td>\n",
       "      <td>2959</td>\n",
       "      <td>2</td>\n",
       "      <td>68</td>\n",
       "    </tr>\n",
       "    <tr>\n",
       "      <th>2</th>\n",
       "      <td>FAM001</td>\n",
       "      <td>FAM001_Member1</td>\n",
       "      <td>2024-10-17</td>\n",
       "      <td>Groceries</td>\n",
       "      <td>91.10</td>\n",
       "      <td>113810</td>\n",
       "      <td>20234</td>\n",
       "      <td>5781</td>\n",
       "      <td>2422</td>\n",
       "      <td>2959</td>\n",
       "      <td>2</td>\n",
       "      <td>68</td>\n",
       "    </tr>\n",
       "    <tr>\n",
       "      <th>3</th>\n",
       "      <td>FAM001</td>\n",
       "      <td>FAM001_Member1</td>\n",
       "      <td>2024-10-25</td>\n",
       "      <td>Healthcare</td>\n",
       "      <td>198.23</td>\n",
       "      <td>113810</td>\n",
       "      <td>20234</td>\n",
       "      <td>5781</td>\n",
       "      <td>2422</td>\n",
       "      <td>2959</td>\n",
       "      <td>2</td>\n",
       "      <td>68</td>\n",
       "    </tr>\n",
       "    <tr>\n",
       "      <th>4</th>\n",
       "      <td>FAM001</td>\n",
       "      <td>FAM001_Member1</td>\n",
       "      <td>2024-10-25</td>\n",
       "      <td>Education</td>\n",
       "      <td>206.42</td>\n",
       "      <td>113810</td>\n",
       "      <td>20234</td>\n",
       "      <td>5781</td>\n",
       "      <td>2422</td>\n",
       "      <td>2959</td>\n",
       "      <td>2</td>\n",
       "      <td>68</td>\n",
       "    </tr>\n",
       "  </tbody>\n",
       "</table>\n",
       "</div>"
      ],
      "text/plain": [
       "  Family ID       Member ID Transaction Date    Category  Amount  Income  \\\n",
       "0    FAM001  FAM001_Member1       2024-10-07      Travel  409.12  113810   \n",
       "1    FAM001  FAM001_Member1       2024-10-16      Travel  270.91  113810   \n",
       "2    FAM001  FAM001_Member1       2024-10-17   Groceries   91.10  113810   \n",
       "3    FAM001  FAM001_Member1       2024-10-25  Healthcare  198.23  113810   \n",
       "4    FAM001  FAM001_Member1       2024-10-25   Education  206.42  113810   \n",
       "\n",
       "   Savings  Monthly Expenses  Loan Payments  Credit Card Spending  Dependents  \\\n",
       "0    20234              5781           2422                  2959           2   \n",
       "1    20234              5781           2422                  2959           2   \n",
       "2    20234              5781           2422                  2959           2   \n",
       "3    20234              5781           2422                  2959           2   \n",
       "4    20234              5781           2422                  2959           2   \n",
       "\n",
       "   Financial Goals Met (%)  \n",
       "0                       68  \n",
       "1                       68  \n",
       "2                       68  \n",
       "3                       68  \n",
       "4                       68  "
      ]
     },
     "execution_count": 4,
     "metadata": {},
     "output_type": "execute_result"
    }
   ],
   "source": [
    "df.head()"
   ]
  },
  {
   "cell_type": "markdown",
   "id": "212d8bcd",
   "metadata": {},
   "source": [
    "### Family level:\n"
   ]
  },
  {
   "cell_type": "code",
   "execution_count": 5,
   "id": "846a74ce",
   "metadata": {},
   "outputs": [
    {
     "name": "stdout",
     "output_type": "stream",
     "text": [
      "Total Spending by Family:\n",
      "\n"
     ]
    },
    {
     "data": {
      "text/plain": [
       "Family ID\n",
       "FAM001    23188.90\n",
       "FAM002    22309.71\n",
       "FAM003    11220.34\n",
       "FAM004    23483.10\n",
       "FAM005    40246.21\n",
       "            ...   \n",
       "FAM196    31433.34\n",
       "FAM197     4032.82\n",
       "FAM198    19378.59\n",
       "FAM199    31009.65\n",
       "FAM200    24887.93\n",
       "Name: Amount, Length: 200, dtype: float64"
      ]
     },
     "execution_count": 5,
     "metadata": {},
     "output_type": "execute_result"
    }
   ],
   "source": [
    "family_spending = df.groupby('Family ID')['Amount'].sum()\n",
    "print(\"Total Spending by Family:\\n\")\n",
    "family_spending"
   ]
  },
  {
   "cell_type": "code",
   "execution_count": 6,
   "id": "bc74a7cf",
   "metadata": {},
   "outputs": [
    {
     "name": "stdout",
     "output_type": "stream",
     "text": [
      "\n",
      "Average Spending per Member by Family:\n",
      "\n"
     ]
    },
    {
     "data": {
      "text/plain": [
       "Family ID\n",
       "FAM001    5797.225000\n",
       "FAM002    4461.942000\n",
       "FAM003    5610.170000\n",
       "FAM004    4696.620000\n",
       "FAM005    5749.458571\n",
       "             ...     \n",
       "FAM196    4490.477143\n",
       "FAM197    2016.410000\n",
       "FAM198    4844.647500\n",
       "FAM199    4429.950000\n",
       "FAM200    4147.988333\n",
       "Length: 200, dtype: float64"
      ]
     },
     "execution_count": 6,
     "metadata": {},
     "output_type": "execute_result"
    }
   ],
   "source": [
    "family_members = df.groupby('Family ID')['Member ID'].nunique()\n",
    "average_spending_per_member = family_spending / family_members\n",
    "print(\"\\nAverage Spending per Member by Family:\\n\")\n",
    "average_spending_per_member"
   ]
  },
  {
   "cell_type": "markdown",
   "id": "0749fa22",
   "metadata": {},
   "source": [
    "### Member Level:"
   ]
  },
  {
   "cell_type": "code",
   "execution_count": 7,
   "id": "3f0216d1",
   "metadata": {},
   "outputs": [
    {
     "name": "stdout",
     "output_type": "stream",
     "text": [
      "\n",
      "Total Spending by Member:\n",
      "\n"
     ]
    },
    {
     "data": {
      "text/plain": [
       "Member ID\n",
       "FAM001_Member1    6521.20\n",
       "FAM001_Member2    7084.83\n",
       "FAM001_Member3    2119.41\n",
       "FAM001_Member4    7463.46\n",
       "FAM002_Member1    3082.90\n",
       "                   ...   \n",
       "FAM200_Member2    2103.85\n",
       "FAM200_Member3    4671.33\n",
       "FAM200_Member4    3739.52\n",
       "FAM200_Member5    5408.28\n",
       "FAM200_Member6    1837.73\n",
       "Name: Amount, Length: 926, dtype: float64"
      ]
     },
     "execution_count": 7,
     "metadata": {},
     "output_type": "execute_result"
    }
   ],
   "source": [
    "member_spending = df.groupby('Member ID')['Amount'].sum()\n",
    "print(\"\\nTotal Spending by Member:\\n\")\n",
    "member_spending"
   ]
  },
  {
   "cell_type": "code",
   "execution_count": 8,
   "id": "c5a8d324",
   "metadata": {
    "scrolled": true
   },
   "outputs": [
    {
     "name": "stdout",
     "output_type": "stream",
     "text": [
      "\n",
      "Spending by Category for Each Member:\n",
      "\n"
     ]
    },
    {
     "data": {
      "text/plain": [
       "Member ID       Category     \n",
       "FAM001_Member1  Education         656.60\n",
       "                Entertainment    1637.63\n",
       "                Food              530.46\n",
       "                Groceries         531.89\n",
       "                Healthcare       1086.53\n",
       "                                  ...   \n",
       "FAM200_Member6  Education         325.58\n",
       "                Entertainment     475.34\n",
       "                Food              190.30\n",
       "                Groceries          79.99\n",
       "                Travel            766.52\n",
       "Name: Amount, Length: 5669, dtype: float64"
      ]
     },
     "execution_count": 8,
     "metadata": {},
     "output_type": "execute_result"
    }
   ],
   "source": [
    "member_spending_by_category = df.groupby(['Member ID', 'Category'])['Amount'].sum()\n",
    "print(\"\\nSpending by Category for Each Member:\\n\")\n",
    "member_spending_by_category"
   ]
  },
  {
   "cell_type": "markdown",
   "id": "b6cdfa30",
   "metadata": {},
   "source": [
    "## Correlation"
   ]
  },
  {
   "cell_type": "code",
   "execution_count": 9,
   "id": "d4b70098",
   "metadata": {},
   "outputs": [
    {
     "data": {
      "text/plain": [
       "<AxesSubplot:>"
      ]
     },
     "execution_count": 9,
     "metadata": {},
     "output_type": "execute_result"
    },
    {
     "data": {
      "image/png": "[encoded data removed]",
      "text/plain": [
       "<Figure size 432x288 with 2 Axes>"
      ]
     },
     "metadata": {
      "needs_background": "light"
     },
     "output_type": "display_data"
    }
   ],
   "source": [
    "sns.heatmap(df.corr())"
   ]
  },
  {
   "cell_type": "code",
   "execution_count": 10,
   "id": "efe91fae",
   "metadata": {},
   "outputs": [
    {
     "name": "stdout",
     "output_type": "stream",
     "text": [
      "\n",
      "Correlation between Income and Monthly Expenses: 0.4835187487729653\n"
     ]
    }
   ],
   "source": [
    "family_income = df.groupby('Family ID')['Income'].sum()\n",
    "family_expenses = df.groupby('Family ID')['Monthly Expenses'].sum()\n",
    "correlation_income_expenses = family_income.corr(family_expenses)\n",
    "\n",
    "print(f\"\\nCorrelation between Income and Monthly Expenses: {correlation_income_expenses}\")"
   ]
  },
  {
   "cell_type": "code",
   "execution_count": 11,
   "id": "414c7c4b",
   "metadata": {},
   "outputs": [
    {
     "name": "stdout",
     "output_type": "stream",
     "text": [
      "\n",
      "Correlation between Savings and Credit Card Spending Habits: 0.3514669492732694\n"
     ]
    }
   ],
   "source": [
    "family_savings = df.groupby('Family ID')['Savings'].sum()\n",
    "family_spending = df.groupby('Family ID')['Credit Card Spending'].sum()\n",
    "correlation_savings_spending = family_savings.corr(family_spending)\n",
    "\n",
    "print(f\"\\nCorrelation between Savings and Credit Card Spending Habits: {correlation_savings_spending}\")"
   ]
  },
  {
   "cell_type": "code",
   "execution_count": 12,
   "id": "64c9be68",
   "metadata": {
    "scrolled": true
   },
   "outputs": [
    {
     "data": {
      "text/plain": [
       "Family ID                  0\n",
       "Member ID                  0\n",
       "Transaction Date           0\n",
       "Category                   0\n",
       "Amount                     0\n",
       "Income                     0\n",
       "Savings                    0\n",
       "Monthly Expenses           0\n",
       "Loan Payments              0\n",
       "Credit Card Spending       0\n",
       "Dependents                 0\n",
       "Financial Goals Met (%)    0\n",
       "dtype: int64"
      ]
     },
     "execution_count": 12,
     "metadata": {},
     "output_type": "execute_result"
    }
   ],
   "source": [
    "df.isna().sum()"
   ]
  },
  {
   "cell_type": "code",
   "execution_count": 13,
   "id": "206de54a",
   "metadata": {},
   "outputs": [],
   "source": [
    "import numpy as np\n",
    "\n",
    "def remove_outlier(data):\n",
    "    factor=1.5\n",
    "    q1 = np.percentile(data, 25)\n",
    "    q3 = np.percentile(data, 75)\n",
    "    iqr = q3 - q1\n",
    "    lower_bound = q1 - factor * iqr\n",
    "    upper_bound = q3 + factor * iqr\n",
    "\n",
    "    return data[(data >= lower_bound) & (data <= upper_bound)] "
   ]
  },
  {
   "cell_type": "code",
   "execution_count": 14,
   "id": "800bfbb7",
   "metadata": {},
   "outputs": [
    {
     "data": {
      "text/html": [
       "<div>\n",
       "<style scoped>\n",
       "    .dataframe tbody tr th:only-of-type {\n",
       "        vertical-align: middle;\n",
       "    }\n",
       "\n",
       "    .dataframe tbody tr th {\n",
       "        vertical-align: top;\n",
       "    }\n",
       "\n",
       "    .dataframe thead th {\n",
       "        text-align: right;\n",
       "    }\n",
       "</style>\n",
       "<table border=\"1\" class=\"dataframe\">\n",
       "  <thead>\n",
       "    <tr style=\"text-align: right;\">\n",
       "      <th></th>\n",
       "      <th>Family ID</th>\n",
       "      <th>Member ID</th>\n",
       "      <th>Transaction Date</th>\n",
       "      <th>Category</th>\n",
       "      <th>Amount</th>\n",
       "      <th>Income</th>\n",
       "      <th>Savings</th>\n",
       "      <th>Monthly Expenses</th>\n",
       "      <th>Loan Payments</th>\n",
       "      <th>Credit Card Spending</th>\n",
       "      <th>Dependents</th>\n",
       "      <th>Financial Goals Met (%)</th>\n",
       "    </tr>\n",
       "  </thead>\n",
       "  <tbody>\n",
       "    <tr>\n",
       "      <th>0</th>\n",
       "      <td>FAM001</td>\n",
       "      <td>FAM001_Member1</td>\n",
       "      <td>2024-10-07</td>\n",
       "      <td>Travel</td>\n",
       "      <td>409.12</td>\n",
       "      <td>113810</td>\n",
       "      <td>20234</td>\n",
       "      <td>5781</td>\n",
       "      <td>2422</td>\n",
       "      <td>2959</td>\n",
       "      <td>2</td>\n",
       "      <td>68</td>\n",
       "    </tr>\n",
       "    <tr>\n",
       "      <th>1</th>\n",
       "      <td>FAM001</td>\n",
       "      <td>FAM001_Member1</td>\n",
       "      <td>2024-10-16</td>\n",
       "      <td>Travel</td>\n",
       "      <td>270.91</td>\n",
       "      <td>113810</td>\n",
       "      <td>20234</td>\n",
       "      <td>5781</td>\n",
       "      <td>2422</td>\n",
       "      <td>2959</td>\n",
       "      <td>2</td>\n",
       "      <td>68</td>\n",
       "    </tr>\n",
       "    <tr>\n",
       "      <th>2</th>\n",
       "      <td>FAM001</td>\n",
       "      <td>FAM001_Member1</td>\n",
       "      <td>2024-10-17</td>\n",
       "      <td>Groceries</td>\n",
       "      <td>91.10</td>\n",
       "      <td>113810</td>\n",
       "      <td>20234</td>\n",
       "      <td>5781</td>\n",
       "      <td>2422</td>\n",
       "      <td>2959</td>\n",
       "      <td>2</td>\n",
       "      <td>68</td>\n",
       "    </tr>\n",
       "    <tr>\n",
       "      <th>3</th>\n",
       "      <td>FAM001</td>\n",
       "      <td>FAM001_Member1</td>\n",
       "      <td>2024-10-25</td>\n",
       "      <td>Healthcare</td>\n",
       "      <td>198.23</td>\n",
       "      <td>113810</td>\n",
       "      <td>20234</td>\n",
       "      <td>5781</td>\n",
       "      <td>2422</td>\n",
       "      <td>2959</td>\n",
       "      <td>2</td>\n",
       "      <td>68</td>\n",
       "    </tr>\n",
       "    <tr>\n",
       "      <th>4</th>\n",
       "      <td>FAM001</td>\n",
       "      <td>FAM001_Member1</td>\n",
       "      <td>2024-10-25</td>\n",
       "      <td>Education</td>\n",
       "      <td>206.42</td>\n",
       "      <td>113810</td>\n",
       "      <td>20234</td>\n",
       "      <td>5781</td>\n",
       "      <td>2422</td>\n",
       "      <td>2959</td>\n",
       "      <td>2</td>\n",
       "      <td>68</td>\n",
       "    </tr>\n",
       "  </tbody>\n",
       "</table>\n",
       "</div>"
      ],
      "text/plain": [
       "  Family ID       Member ID Transaction Date    Category  Amount  Income  \\\n",
       "0    FAM001  FAM001_Member1       2024-10-07      Travel  409.12  113810   \n",
       "1    FAM001  FAM001_Member1       2024-10-16      Travel  270.91  113810   \n",
       "2    FAM001  FAM001_Member1       2024-10-17   Groceries   91.10  113810   \n",
       "3    FAM001  FAM001_Member1       2024-10-25  Healthcare  198.23  113810   \n",
       "4    FAM001  FAM001_Member1       2024-10-25   Education  206.42  113810   \n",
       "\n",
       "   Savings  Monthly Expenses  Loan Payments  Credit Card Spending  Dependents  \\\n",
       "0    20234              5781           2422                  2959           2   \n",
       "1    20234              5781           2422                  2959           2   \n",
       "2    20234              5781           2422                  2959           2   \n",
       "3    20234              5781           2422                  2959           2   \n",
       "4    20234              5781           2422                  2959           2   \n",
       "\n",
       "   Financial Goals Met (%)  \n",
       "0                       68  \n",
       "1                       68  \n",
       "2                       68  \n",
       "3                       68  \n",
       "4                       68  "
      ]
     },
     "execution_count": 14,
     "metadata": {},
     "output_type": "execute_result"
    }
   ],
   "source": [
    "columns_to_clean = ['Amount', 'Income', 'Savings', 'Monthly Expenses', 'Loan Payments', 'Credit Card Spending', 'Dependents', 'Financial Goals Met (%)']\n",
    "\n",
    "for column in columns_to_clean:\n",
    "    df[column] = remove_outlier(df[column])\n",
    "\n",
    "df.head()"
   ]
  },
  {
   "cell_type": "markdown",
   "id": "ee5a201c",
   "metadata": {},
   "source": [
    "### Factor\tWeight\tScoring \n",
    "- Savings-to-Income Ratio --->\t20 \n",
    "- Monthly Expenses as a % of Income --->\t20\t\n",
    "- Loan Payments as a % of Income--->\t15\n",
    "- Credit Card Spending Trends\t--->15\n",
    "- Spending Category Distribution--->\t15\n",
    "- Financial Goals Met (%)--->\t15"
   ]
  },
  {
   "cell_type": "markdown",
   "id": "0f249f72",
   "metadata": {},
   "source": [
    "### Scoring Logic for Each Factor:\n",
    "\n",
    "#### Savings-to-Income Ratio:\n",
    "- If the ratio is above 20%, assign a score of 20.\n",
    "- For every 1% decrease, deduct 1 point.\n",
    "#### Monthly Expenses as a % of Income:\n",
    "- If the percentage is below 30%, assign a score of 20.\n",
    "- For every 1% increase, deduct 1 point.\n",
    "#### Loan Payments as a % of Income:\n",
    "- If the percentage is below 20%, assign a score of 15.\n",
    "- For every 1% increase, deduct 1 point.\n",
    "#### Credit Card Spending Trends:\n",
    "- Analyze the past 6 months of spending.\n",
    "- Consistent spending with no significant spikes: 15 points.\n",
    "- Moderate increase: 10 points.\n",
    "- Significant increase: 5 points.\n",
    "- Declining trend: 0 points.\n",
    "#### Spending Category Distribution:\n",
    "- Assign weights to different categories (e.g., groceries, housing, transportation, entertainment).\n",
    "- Calculate a weighted average based on the proportion of spending in each category.\n",
    "#### Financial Goals Met (%):\n",
    "- Directly assign the percentage as the score."
   ]
  },
  {
   "cell_type": "code",
   "execution_count": 15,
   "id": "f3d34c21",
   "metadata": {},
   "outputs": [],
   "source": [
    "df1=df.copy()"
   ]
  },
  {
   "cell_type": "code",
   "execution_count": 16,
   "id": "1ab18da5",
   "metadata": {
    "scrolled": true
   },
   "outputs": [
    {
     "data": {
      "text/plain": [
       "array(['Travel', 'Groceries', 'Healthcare', 'Education', 'Utilities',\n",
       "       'Food', 'Entertainment'], dtype=object)"
      ]
     },
     "execution_count": 16,
     "metadata": {},
     "output_type": "execute_result"
    }
   ],
   "source": [
    "df.Category.unique()"
   ]
  },
  {
   "cell_type": "code",
   "execution_count": 17,
   "id": "a8bf0774",
   "metadata": {},
   "outputs": [],
   "source": [
    "\n",
    "def calculate_financial_health_score(df):\n",
    "    df['SavingsToIncomeRatio'] = df['Savings'] / df['Income']\n",
    "\n",
    "    df['MonthlyExpenseRatio'] = df['Monthly Expenses'] / df['Income']\n",
    "\n",
    "    df['LoanPaymentRatio'] = df['Loan Payments'] / df['Income']\n",
    "    \n",
    "    df['Spending Category'] = df['Credit Card Spending'] / df['Income']\n",
    "    \n",
    "    df['FinancialGoalsMetScore'] = df['Financial Goals Met (%)'] /100\n",
    "\n",
    "    weights = {\n",
    "        'SavingsToIncomeRatio': 20,\n",
    "        'MonthlyExpenseRatio': 20,\n",
    "        'LoanPaymentRatio': 15,\n",
    "        'CreditCardSpendingTrend': 15,\n",
    "        'SpendingCategoryDistribution': 15,\n",
    "        'FinancialGoalsMetScore': 15\n",
    "    }\n",
    "\n",
    "    df['WeightedScore'] = (\n",
    "        df['SavingsToIncomeRatio'] * weights['SavingsToIncomeRatio'] +\n",
    "        (1 - df['MonthlyExpenseRatio']) * weights['MonthlyExpenseRatio'] +\n",
    "        (1 - df['LoanPaymentRatio']) * weights['LoanPaymentRatio'] +\n",
    "        df['Spending Category'] * weights['SpendingCategoryDistribution'] +\n",
    "        df['FinancialGoalsMetScore'] * weights['FinancialGoalsMetScore']\n",
    "    )\n",
    "\n",
    "    return df['WeightedScore']\n",
    "if __name__ == '__main__':\n",
    "    df1['FinancialHealthScore'] = calculate_financial_health_score(df1)"
   ]
  },
  {
   "cell_type": "markdown",
   "id": "3fa08edd",
   "metadata": {},
   "source": [
    "## Visualization"
   ]
  },
  {
   "cell_type": "code",
   "execution_count": 18,
   "id": "3f7a9a3f",
   "metadata": {},
   "outputs": [
    {
     "data": {
      "image/png": "[encoded data removed]",
      "text/plain": [
       "<Figure size 720x432 with 1 Axes>"
      ]
     },
     "metadata": {
      "needs_background": "light"
     },
     "output_type": "display_data"
    }
   ],
   "source": [
    "plt.figure(figsize=(10,6))\n",
    "sns.barplot(x='Category', y='Amount', data=df, estimator=sum)\n",
    "plt.title('Total Spending by Category')\n",
    "plt.xlabel('Category')\n",
    "plt.ylabel('Total Spending')\n",
    "plt.xticks(rotation=45)\n",
    "plt.show()"
   ]
  },
  {
   "cell_type": "code",
   "execution_count": 19,
   "id": "533640a7",
   "metadata": {},
   "outputs": [
    {
     "data": {
      "image/png": "[encoded data removed]",
      "text/plain": [
       "<Figure size 720x432 with 1 Axes>"
      ]
     },
     "metadata": {
      "needs_background": "light"
     },
     "output_type": "display_data"
    }
   ],
   "source": [
    "plt.figure(figsize=(10,6))\n",
    "sns.barplot(x='Family ID', y='FinancialHealthScore', data=df1)\n",
    "plt.title('Financial Health Score by Family')\n",
    "plt.xlabel('Family ID')\n",
    "plt.ylabel('Financial Health Score')\n",
    "plt.xticks(rotation=90)\n",
    "plt.show()"
   ]
  },
  {
   "cell_type": "code",
   "execution_count": 20,
   "id": "4e563ebb",
   "metadata": {},
   "outputs": [
    {
     "data": {
      "text/html": [
       "<div>\n",
       "<style scoped>\n",
       "    .dataframe tbody tr th:only-of-type {\n",
       "        vertical-align: middle;\n",
       "    }\n",
       "\n",
       "    .dataframe tbody tr th {\n",
       "        vertical-align: top;\n",
       "    }\n",
       "\n",
       "    .dataframe thead th {\n",
       "        text-align: right;\n",
       "    }\n",
       "</style>\n",
       "<table border=\"1\" class=\"dataframe\">\n",
       "  <thead>\n",
       "    <tr style=\"text-align: right;\">\n",
       "      <th></th>\n",
       "      <th>Family ID</th>\n",
       "      <th>Member ID</th>\n",
       "      <th>Transaction Date</th>\n",
       "      <th>Category</th>\n",
       "      <th>Amount</th>\n",
       "      <th>Income</th>\n",
       "      <th>Savings</th>\n",
       "      <th>Monthly Expenses</th>\n",
       "      <th>Loan Payments</th>\n",
       "      <th>Credit Card Spending</th>\n",
       "      <th>Dependents</th>\n",
       "      <th>Financial Goals Met (%)</th>\n",
       "      <th>SavingsToIncomeRatio</th>\n",
       "      <th>MonthlyExpenseRatio</th>\n",
       "      <th>LoanPaymentRatio</th>\n",
       "      <th>Spending Category</th>\n",
       "      <th>FinancialGoalsMetScore</th>\n",
       "      <th>WeightedScore</th>\n",
       "      <th>FinancialHealthScore</th>\n",
       "    </tr>\n",
       "  </thead>\n",
       "  <tbody>\n",
       "    <tr>\n",
       "      <th>0</th>\n",
       "      <td>FAM001</td>\n",
       "      <td>FAM001_Member1</td>\n",
       "      <td>2024-10-07</td>\n",
       "      <td>Travel</td>\n",
       "      <td>409.12</td>\n",
       "      <td>113810</td>\n",
       "      <td>20234</td>\n",
       "      <td>5781</td>\n",
       "      <td>2422</td>\n",
       "      <td>2959</td>\n",
       "      <td>2</td>\n",
       "      <td>68</td>\n",
       "      <td>0.177788</td>\n",
       "      <td>0.050795</td>\n",
       "      <td>0.021281</td>\n",
       "      <td>0.025999</td>\n",
       "      <td>0.68</td>\n",
       "      <td>47.810623</td>\n",
       "      <td>47.810623</td>\n",
       "    </tr>\n",
       "    <tr>\n",
       "      <th>1</th>\n",
       "      <td>FAM001</td>\n",
       "      <td>FAM001_Member1</td>\n",
       "      <td>2024-10-16</td>\n",
       "      <td>Travel</td>\n",
       "      <td>270.91</td>\n",
       "      <td>113810</td>\n",
       "      <td>20234</td>\n",
       "      <td>5781</td>\n",
       "      <td>2422</td>\n",
       "      <td>2959</td>\n",
       "      <td>2</td>\n",
       "      <td>68</td>\n",
       "      <td>0.177788</td>\n",
       "      <td>0.050795</td>\n",
       "      <td>0.021281</td>\n",
       "      <td>0.025999</td>\n",
       "      <td>0.68</td>\n",
       "      <td>47.810623</td>\n",
       "      <td>47.810623</td>\n",
       "    </tr>\n",
       "    <tr>\n",
       "      <th>2</th>\n",
       "      <td>FAM001</td>\n",
       "      <td>FAM001_Member1</td>\n",
       "      <td>2024-10-17</td>\n",
       "      <td>Groceries</td>\n",
       "      <td>91.10</td>\n",
       "      <td>113810</td>\n",
       "      <td>20234</td>\n",
       "      <td>5781</td>\n",
       "      <td>2422</td>\n",
       "      <td>2959</td>\n",
       "      <td>2</td>\n",
       "      <td>68</td>\n",
       "      <td>0.177788</td>\n",
       "      <td>0.050795</td>\n",
       "      <td>0.021281</td>\n",
       "      <td>0.025999</td>\n",
       "      <td>0.68</td>\n",
       "      <td>47.810623</td>\n",
       "      <td>47.810623</td>\n",
       "    </tr>\n",
       "    <tr>\n",
       "      <th>3</th>\n",
       "      <td>FAM001</td>\n",
       "      <td>FAM001_Member1</td>\n",
       "      <td>2024-10-25</td>\n",
       "      <td>Healthcare</td>\n",
       "      <td>198.23</td>\n",
       "      <td>113810</td>\n",
       "      <td>20234</td>\n",
       "      <td>5781</td>\n",
       "      <td>2422</td>\n",
       "      <td>2959</td>\n",
       "      <td>2</td>\n",
       "      <td>68</td>\n",
       "      <td>0.177788</td>\n",
       "      <td>0.050795</td>\n",
       "      <td>0.021281</td>\n",
       "      <td>0.025999</td>\n",
       "      <td>0.68</td>\n",
       "      <td>47.810623</td>\n",
       "      <td>47.810623</td>\n",
       "    </tr>\n",
       "    <tr>\n",
       "      <th>4</th>\n",
       "      <td>FAM001</td>\n",
       "      <td>FAM001_Member1</td>\n",
       "      <td>2024-10-25</td>\n",
       "      <td>Education</td>\n",
       "      <td>206.42</td>\n",
       "      <td>113810</td>\n",
       "      <td>20234</td>\n",
       "      <td>5781</td>\n",
       "      <td>2422</td>\n",
       "      <td>2959</td>\n",
       "      <td>2</td>\n",
       "      <td>68</td>\n",
       "      <td>0.177788</td>\n",
       "      <td>0.050795</td>\n",
       "      <td>0.021281</td>\n",
       "      <td>0.025999</td>\n",
       "      <td>0.68</td>\n",
       "      <td>47.810623</td>\n",
       "      <td>47.810623</td>\n",
       "    </tr>\n",
       "  </tbody>\n",
       "</table>\n",
       "</div>"
      ],
      "text/plain": [
       "  Family ID       Member ID Transaction Date    Category  Amount  Income  \\\n",
       "0    FAM001  FAM001_Member1       2024-10-07      Travel  409.12  113810   \n",
       "1    FAM001  FAM001_Member1       2024-10-16      Travel  270.91  113810   \n",
       "2    FAM001  FAM001_Member1       2024-10-17   Groceries   91.10  113810   \n",
       "3    FAM001  FAM001_Member1       2024-10-25  Healthcare  198.23  113810   \n",
       "4    FAM001  FAM001_Member1       2024-10-25   Education  206.42  113810   \n",
       "\n",
       "   Savings  Monthly Expenses  Loan Payments  Credit Card Spending  Dependents  \\\n",
       "0    20234              5781           2422                  2959           2   \n",
       "1    20234              5781           2422                  2959           2   \n",
       "2    20234              5781           2422                  2959           2   \n",
       "3    20234              5781           2422                  2959           2   \n",
       "4    20234              5781           2422                  2959           2   \n",
       "\n",
       "   Financial Goals Met (%)  SavingsToIncomeRatio  MonthlyExpenseRatio  \\\n",
       "0                       68              0.177788             0.050795   \n",
       "1                       68              0.177788             0.050795   \n",
       "2                       68              0.177788             0.050795   \n",
       "3                       68              0.177788             0.050795   \n",
       "4                       68              0.177788             0.050795   \n",
       "\n",
       "   LoanPaymentRatio  Spending Category  FinancialGoalsMetScore  WeightedScore  \\\n",
       "0          0.021281           0.025999                    0.68      47.810623   \n",
       "1          0.021281           0.025999                    0.68      47.810623   \n",
       "2          0.021281           0.025999                    0.68      47.810623   \n",
       "3          0.021281           0.025999                    0.68      47.810623   \n",
       "4          0.021281           0.025999                    0.68      47.810623   \n",
       "\n",
       "   FinancialHealthScore  \n",
       "0             47.810623  \n",
       "1             47.810623  \n",
       "2             47.810623  \n",
       "3             47.810623  \n",
       "4             47.810623  "
      ]
     },
     "execution_count": 20,
     "metadata": {},
     "output_type": "execute_result"
    }
   ],
   "source": [
    "df1.head()"
   ]
  },
  {
   "cell_type": "code",
   "execution_count": 21,
   "id": "0de46a48",
   "metadata": {
    "scrolled": true
   },
   "outputs": [
    {
     "data": {
      "text/html": [
       "<div>\n",
       "<style scoped>\n",
       "    .dataframe tbody tr th:only-of-type {\n",
       "        vertical-align: middle;\n",
       "    }\n",
       "\n",
       "    .dataframe tbody tr th {\n",
       "        vertical-align: top;\n",
       "    }\n",
       "\n",
       "    .dataframe thead th {\n",
       "        text-align: right;\n",
       "    }\n",
       "</style>\n",
       "<table border=\"1\" class=\"dataframe\">\n",
       "  <thead>\n",
       "    <tr style=\"text-align: right;\">\n",
       "      <th></th>\n",
       "      <th>Family ID</th>\n",
       "      <th>Member ID</th>\n",
       "      <th>Transaction Date</th>\n",
       "      <th>Category</th>\n",
       "      <th>Amount</th>\n",
       "      <th>Income</th>\n",
       "      <th>Savings</th>\n",
       "      <th>Monthly Expenses</th>\n",
       "      <th>Loan Payments</th>\n",
       "      <th>Credit Card Spending</th>\n",
       "      <th>Dependents</th>\n",
       "      <th>Financial Goals Met (%)</th>\n",
       "    </tr>\n",
       "  </thead>\n",
       "  <tbody>\n",
       "    <tr>\n",
       "      <th>0</th>\n",
       "      <td>FAM001</td>\n",
       "      <td>FAM001_Member1</td>\n",
       "      <td>2024-10-07</td>\n",
       "      <td>Travel</td>\n",
       "      <td>409.12</td>\n",
       "      <td>113810</td>\n",
       "      <td>20234</td>\n",
       "      <td>5781</td>\n",
       "      <td>2422</td>\n",
       "      <td>2959</td>\n",
       "      <td>2</td>\n",
       "      <td>68</td>\n",
       "    </tr>\n",
       "    <tr>\n",
       "      <th>1</th>\n",
       "      <td>FAM001</td>\n",
       "      <td>FAM001_Member1</td>\n",
       "      <td>2024-10-16</td>\n",
       "      <td>Travel</td>\n",
       "      <td>270.91</td>\n",
       "      <td>113810</td>\n",
       "      <td>20234</td>\n",
       "      <td>5781</td>\n",
       "      <td>2422</td>\n",
       "      <td>2959</td>\n",
       "      <td>2</td>\n",
       "      <td>68</td>\n",
       "    </tr>\n",
       "    <tr>\n",
       "      <th>2</th>\n",
       "      <td>FAM001</td>\n",
       "      <td>FAM001_Member1</td>\n",
       "      <td>2024-10-17</td>\n",
       "      <td>Groceries</td>\n",
       "      <td>91.10</td>\n",
       "      <td>113810</td>\n",
       "      <td>20234</td>\n",
       "      <td>5781</td>\n",
       "      <td>2422</td>\n",
       "      <td>2959</td>\n",
       "      <td>2</td>\n",
       "      <td>68</td>\n",
       "    </tr>\n",
       "    <tr>\n",
       "      <th>3</th>\n",
       "      <td>FAM001</td>\n",
       "      <td>FAM001_Member1</td>\n",
       "      <td>2024-10-25</td>\n",
       "      <td>Healthcare</td>\n",
       "      <td>198.23</td>\n",
       "      <td>113810</td>\n",
       "      <td>20234</td>\n",
       "      <td>5781</td>\n",
       "      <td>2422</td>\n",
       "      <td>2959</td>\n",
       "      <td>2</td>\n",
       "      <td>68</td>\n",
       "    </tr>\n",
       "    <tr>\n",
       "      <th>4</th>\n",
       "      <td>FAM001</td>\n",
       "      <td>FAM001_Member1</td>\n",
       "      <td>2024-10-25</td>\n",
       "      <td>Education</td>\n",
       "      <td>206.42</td>\n",
       "      <td>113810</td>\n",
       "      <td>20234</td>\n",
       "      <td>5781</td>\n",
       "      <td>2422</td>\n",
       "      <td>2959</td>\n",
       "      <td>2</td>\n",
       "      <td>68</td>\n",
       "    </tr>\n",
       "  </tbody>\n",
       "</table>\n",
       "</div>"
      ],
      "text/plain": [
       "  Family ID       Member ID Transaction Date    Category  Amount  Income  \\\n",
       "0    FAM001  FAM001_Member1       2024-10-07      Travel  409.12  113810   \n",
       "1    FAM001  FAM001_Member1       2024-10-16      Travel  270.91  113810   \n",
       "2    FAM001  FAM001_Member1       2024-10-17   Groceries   91.10  113810   \n",
       "3    FAM001  FAM001_Member1       2024-10-25  Healthcare  198.23  113810   \n",
       "4    FAM001  FAM001_Member1       2024-10-25   Education  206.42  113810   \n",
       "\n",
       "   Savings  Monthly Expenses  Loan Payments  Credit Card Spending  Dependents  \\\n",
       "0    20234              5781           2422                  2959           2   \n",
       "1    20234              5781           2422                  2959           2   \n",
       "2    20234              5781           2422                  2959           2   \n",
       "3    20234              5781           2422                  2959           2   \n",
       "4    20234              5781           2422                  2959           2   \n",
       "\n",
       "   Financial Goals Met (%)  \n",
       "0                       68  \n",
       "1                       68  \n",
       "2                       68  \n",
       "3                       68  \n",
       "4                       68  "
      ]
     },
     "execution_count": 21,
     "metadata": {},
     "output_type": "execute_result"
    }
   ],
   "source": [
    "df.head()"
   ]
  },
  {
   "cell_type": "code",
   "execution_count": 22,
   "id": "7844776b",
   "metadata": {},
   "outputs": [],
   "source": [
    "X=df1[['Category','Amount','Income','Savings','Monthly Expenses','Loan Payments','Credit Card Spending','Dependents']]\n",
    "y=df1.FinancialHealthScore"
   ]
  },
  {
   "cell_type": "code",
   "execution_count": 23,
   "id": "5368eaaf",
   "metadata": {},
   "outputs": [],
   "source": [
    "from sklearn.compose import ColumnTransformer\n",
    "from sklearn.preprocessing import OneHotEncoder ,StandardScaler\n",
    "ct = ColumnTransformer(transformers=[('Category', OneHotEncoder(), [0])],remainder='passthrough') #sparse=False\n",
    "X_ct=ct.fit_transform(X)\n",
    "s = StandardScaler() # with_mean=False\n",
    "X_s = s.fit_transform(X_ct)"
   ]
  },
  {
   "cell_type": "code",
   "execution_count": 31,
   "id": "e5c92d6a",
   "metadata": {
    "scrolled": false
   },
   "outputs": [
    {
     "data": {
      "text/plain": [
       "0.9999999973562994"
      ]
     },
     "execution_count": 31,
     "metadata": {},
     "output_type": "execute_result"
    }
   ],
   "source": [
    "import xgboost as xgb \n",
    "model = xgb.XGBRegressor()\n",
    "model.fit(X_s, y)\n",
    "model.score(X_s, y)"
   ]
  },
  {
   "cell_type": "code",
   "execution_count": 32,
   "id": "c260573a",
   "metadata": {},
   "outputs": [],
   "source": [
    "import pickle\n",
    "with open('family.pickle','wb') as f:\n",
    "    pickle.dump(model,f)"
   ]
  },
  {
   "cell_type": "code",
   "execution_count": 24,
   "id": "15255abf",
   "metadata": {},
   "outputs": [],
   "source": [
    "# This is for my input system which will input to my model\n",
    "\n",
    "from sklearn.compose import ColumnTransformer\n",
    "from sklearn.preprocessing import OneHotEncoder , StandardScaler\n",
    "new_row = {'Category': c,'Amount': a,'Income':i,'Savings':s,'Monthly Expenses': me,'Loan Payments': lp,'Credit Card Spending': ccs,'Dependents':d}\n",
    "input_df = pd.concat([X, pd.DataFrame([new_row])], ignore_index=True)\n",
    "input_df=input_df.values\n",
    "preprocessor = ColumnTransformer(transformers=[('Category', OneHotEncoder(), [0])],remainder='passthrough')\n",
    "input_df_pre = preprocessor.fit_transform(input_df)\n",
    "scaler1 = StandardScaler()\n",
    "new_scaled = scaler1.fit_transform(input_df_pre)\n",
    "last_row_transformed = input_df_pre[-1].reshape(1, -1)\n",
    "\n"
   ]
  },
  {
   "cell_type": "code",
   "execution_count": 33,
   "id": "f050c4e7",
   "metadata": {},
   "outputs": [],
   "source": [
    "import json\n",
    "columns = {\n",
    "    'category_columns' : [col for col in df.Category.unique()]\n",
    "}\n",
    "with open('columns.json','w') as f:\n",
    "    f.write(json.dumps(columns))"
   ]
  },
  {
   "cell_type": "code",
   "execution_count": 35,
   "id": "a18da3fb",
   "metadata": {},
   "outputs": [],
   "source": [
    "X.to_csv('X.csv', index=False)"
   ]
  },
  {
   "cell_type": "code",
   "execution_count": null,
   "id": "28bdfb52",
   "metadata": {},
   "outputs": [],
   "source": []
  }
 ],
 "metadata": {
  "kernelspec": {
   "display_name": "Python 3 (ipykernel)",
   "language": "python",
   "name": "python3"
  },
  "language_info": {
   "codemirror_mode": {
    "name": "ipython",
    "version": 3
   },
   "file_extension": ".py",
   "mimetype": "text/x-python",
   "name": "python",
   "nbconvert_exporter": "python",
   "pygments_lexer": "ipython3",
   "version": "3.9.12"
  }
 },
 "nbformat": 4,
 "nbformat_minor": 5
}
